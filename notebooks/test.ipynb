{
 "cells": [
  {
   "cell_type": "code",
   "execution_count": 9,
   "metadata": {},
   "outputs": [
    {
     "data": {
      "text/plain": [
       "{'start': [],\n",
       " 'end': [],\n",
       " 'vec_repr': array([0, 0, 0, ..., 0, 0, 0], dtype=uint8)}"
      ]
     },
     "execution_count": 9,
     "metadata": {},
     "output_type": "execute_result"
    }
   ],
   "source": [
    "import os\n",
    "import math\n",
    "from typing import List, Tuple\n",
    "\n",
    "import numpy as np\n",
    "import pandas as pd\n",
    "from PIL import Image, ImageDraw, ImageOps\n",
    "\n",
    "\n",
    "class App:\n",
    "    def __init__(self,\n",
    "                 image_dir_path: str,\n",
    "                 target_image_name: str,\n",
    "                 target_size: int,\n",
    "                 num_points: int):\n",
    "        \n",
    "        self.target_image_path = os.path.join(image_dir_path, target_image_name)\n",
    "        self.target_size = target_size\n",
    "        self.num_points = num_points\n",
    "\n",
    "        self.target_image = None\n",
    "        self.target_image_vec_repr = None\n",
    "        self.read_and_preprocess_image()\n",
    "\n",
    "        self.circle_points = None\n",
    "\n",
    "        self.basis_vectors_df = None\n",
    "        self.get_basis_vectors()\n",
    "\n",
    "        self.updates_history = None\n",
    "        \n",
    "\n",
    "    def _convert_image_to_array(self, img: Image) -> np.ndarray:\n",
    "        img_arr = np.array(img).flatten()\n",
    "        img_arr = 255 - img_arr # 計算の都合上グレイスケールを反転させる\n",
    "        return img_arr \n",
    "\n",
    "\n",
    "    def _recover_image_from_array(self, img_arr: np.ndarray, target_size) -> Image:\n",
    "        img_arr = 255 - img_arr\n",
    "        img = Image.fromarray(img_arr.reshape(target_size, target_size))\n",
    "        return img\n",
    "\n",
    "    def read_and_preprocess_image(self) -> None:\n",
    "        # 画像を読み込み\n",
    "        img = Image.open(self.target_image_path)\n",
    "\n",
    "        # 画像をグレースケールに変換\n",
    "        img = img.convert('L')\n",
    "\n",
    "        # 画像を正方形に切り抜く\n",
    "        size = min(img.size)\n",
    "        img = ImageOps.fit(img, (size, size), Image.LANCZOS)\n",
    "\n",
    "        # 円形に切り抜くためのマスクを作成\n",
    "        mask = Image.new('L', (size, size), 0)\n",
    "        draw = ImageDraw.Draw(mask)\n",
    "        draw.ellipse((0, 0, size, size), fill=255)\n",
    "\n",
    "        # マスクを使って画像を円形に切り抜く\n",
    "        img = Image.composite(img, Image.new('L', img.size, 255), mask)\n",
    "\n",
    "        # 指定されたサイズにリサイズ\n",
    "        img = img.resize((self.target_size, self.target_size), Image.LANCZOS)\n",
    "\n",
    "        self.target_image = img\n",
    "        self.target_image_vec_repr = self._convert_image_to_array(img)\n",
    "        \n",
    "    def _approximate_circle_points(self, target_size: int, num_points: int) -> List[Tuple[int]]:\n",
    "        # 正方形に内接する円の中心座標と半径を計算\n",
    "        center = (target_size // 2, target_size // 2)\n",
    "        radius = target_size // 2\n",
    "\n",
    "        points = []\n",
    "        for i in range(num_points):\n",
    "            angle = (2 * math.pi * i) / num_points\n",
    "            x = center[0] + int(radius * math.cos(angle))\n",
    "            y = center[1] + int(radius * math.sin(angle))\n",
    "            points.append((x, y))\n",
    "\n",
    "        return points\n",
    "\n",
    "    def _get_all_combinations(self, points: List[Tuple[int]]) -> List[Tuple[Tuple[int], Tuple[int]]]:\n",
    "        combinations = []\n",
    "\n",
    "        for i in range(len(points)):\n",
    "            for j in range(i + 1, len(points)):\n",
    "                combinations.append((points[i], points[j]))\n",
    "\n",
    "        return combinations\n",
    "\n",
    "    def get_basis_vectors(self) -> None:\n",
    "        circle_points = self._approximate_circle_points(self.target_size, self.num_points)\n",
    "        coordinates_combinations = self._get_all_combinations(circle_points)\n",
    "\n",
    "        vector_representations = []\n",
    "\n",
    "        for combination in coordinates_combinations:\n",
    "            img = Image.new('L', (self.target_size, self.target_size), 255)\n",
    "            draw = ImageDraw.Draw(img)\n",
    "            draw.line(combination, fill=0, width=1)\n",
    "\n",
    "            vector_representations.append(self._convert_image_to_array(img))\n",
    "\n",
    "        basis_vectors_dict = {\n",
    "            \"coords\": coordinates_combinations,\n",
    "            \"vec_repr\": vector_representations\n",
    "        }\n",
    "\n",
    "        self.circle_points = circle_points\n",
    "        self.basis_vectors_df = pd.DataFrame(basis_vectors_dict)\n",
    "\n",
    "    \n",
    "    def main(self, num_update: int = 100):\n",
    "        \n",
    "        update_hist_dict = {\n",
    "            'start': [],\n",
    "            'end': [],\n",
    "            'vec_repr': np.zeros_like(self.target_image_vec_repr)\n",
    "        }\n",
    "\n",
    "        return update_hist_dict\n",
    "\n",
    "    \n",
    "\n",
    "\n",
    "\n",
    "image_dir_path = './../images'\n",
    "target_image_name = 'eye.jpg'\n",
    "target_size = 300\n",
    "num_points = 100\n",
    "\n",
    "app = App(image_dir_path, target_image_name, target_size, num_points)\n",
    "app.main(num_update=0)"
   ]
  },
  {
   "cell_type": "code",
   "execution_count": 8,
   "metadata": {},
   "outputs": [
    {
     "name": "stdout",
     "output_type": "stream",
     "text": [
      "0       ((300, 150), (299, 159))\n",
      "1       ((300, 150), (298, 168))\n",
      "2       ((300, 150), (297, 178))\n",
      "3       ((300, 150), (295, 187))\n",
      "4       ((300, 150), (292, 196))\n",
      "                  ...           \n",
      "4945    ((295, 113), (298, 132))\n",
      "4946    ((295, 113), (299, 141))\n",
      "4947    ((297, 122), (298, 132))\n",
      "4948    ((297, 122), (299, 141))\n",
      "4949    ((298, 132), (299, 141))\n",
      "Name: coords, Length: 4950, dtype: object\n"
     ]
    }
   ],
   "source": [
    "print(app.basis_vectors_df['coords'])"
   ]
  },
  {
   "cell_type": "code",
   "execution_count": 5,
   "metadata": {},
   "outputs": [
    {
     "data": {
      "text/plain": [
       "array([0, 0, 0, ..., 0, 0, 0], dtype=uint8)"
      ]
     },
     "execution_count": 5,
     "metadata": {},
     "output_type": "execute_result"
    }
   ],
   "source": [
    "app.target_image_vec_repr"
   ]
  },
  {
   "cell_type": "code",
   "execution_count": 6,
   "metadata": {},
   "outputs": [
    {
     "data": {
      "image/png": "[encoded data removed]",
      "text/plain": [
       "<PIL.Image.Image image mode=L size=300x300>"
      ]
     },
     "execution_count": 6,
     "metadata": {},
     "output_type": "execute_result"
    }
   ],
   "source": [
    "app.target_image"
   ]
  },
  {
   "cell_type": "code",
   "execution_count": null,
   "metadata": {},
   "outputs": [],
   "source": []
  },
  {
   "cell_type": "code",
   "execution_count": null,
   "metadata": {},
   "outputs": [],
   "source": []
  },
  {
   "cell_type": "code",
   "execution_count": null,
   "metadata": {},
   "outputs": [],
   "source": []
  },
  {
   "cell_type": "code",
   "execution_count": null,
   "metadata": {},
   "outputs": [],
   "source": []
  },
  {
   "cell_type": "code",
   "execution_count": 17,
   "metadata": {},
   "outputs": [
    {
     "ename": "KeyError",
     "evalue": "'1'",
     "output_type": "error",
     "traceback": [
      "\u001b[0;31m---------------------------------------------------------------------------\u001b[0m",
      "\u001b[0;31mKeyError\u001b[0m                                  Traceback (most recent call last)",
      "Cell \u001b[0;32mIn[17], line 1\u001b[0m\n\u001b[0;32m----> 1\u001b[0m \u001b[43mtmp\u001b[49m\u001b[43m[\u001b[49m\u001b[38;5;124;43m\"\u001b[39;49m\u001b[38;5;124;43m1\u001b[39;49m\u001b[38;5;124;43m\"\u001b[39;49m\u001b[43m]\u001b[49m\n",
      "\u001b[0;31mKeyError\u001b[0m: '1'"
     ]
    }
   ],
   "source": [
    "from typing import Tuple\n",
    "\n",
    "class BasisVector:\n",
    "    def __init__(self, \n",
    "                 pair_ids: Tuple[int],\n",
    "                 pair_coordinates: Tuple[Tuple[int]]):\n",
    "        self.pair_ids = pair_ids\n",
    "        self.pair_coordinates = pair_coordinates\n",
    "        self.vector_representation = self._get_vector_representation()\n",
    "\n",
    "    def _get_vector_representation(self):\n",
    "git\n",
    "    def __add__\n",
    "        "
   ]
  },
  {
   "cell_type": "code",
   "execution_count": null,
   "metadata": {},
   "outputs": [],
   "source": []
  },
  {
   "cell_type": "code",
   "execution_count": 37,
   "metadata": {},
   "outputs": [
    {
     "data": {
      "text/plain": [
       "array([0.48580005, 0.67472957, 0.92075062, 0.64498423, 0.33487187,\n",
       "       0.15437444, 0.56338156, 0.20663089, 0.17266157, 0.941636  ,\n",
       "       0.31395996, 0.54698559, 0.97071227, 0.4652353 , 0.73039495,\n",
       "       0.65757293, 0.06565675, 0.06547045, 0.05046625, 0.17006609,\n",
       "       0.74097069, 0.19660062, 0.9932546 , 0.92556708, 0.41653355,\n",
       "       0.57447264, 0.44293984, 0.48944576, 0.94775098, 0.66036272,\n",
       "       0.61658173, 0.32771982, 0.39522731, 0.63698383, 0.10929576,\n",
       "       0.61206135, 0.42516551, 0.41675961, 0.53712592, 0.18649455,\n",
       "       0.91394124, 0.49810321, 0.37033193, 0.02776645, 0.82603941,\n",
       "       0.94644916, 0.68946806, 0.16470394, 0.02337196, 0.77382914,\n",
       "       0.70029054, 0.99744931, 0.37205014, 0.88876253, 0.48512958,\n",
       "       0.41763813, 0.56284729, 0.74045786, 0.583507  , 0.70551996,\n",
       "       0.9779364 , 0.27397147, 0.61112194, 0.94483965, 0.76464776,\n",
       "       0.21839611, 0.1696806 , 0.92369161, 0.94467336, 0.14358626,\n",
       "       0.91180924, 0.92999028, 0.48658005, 0.78506243, 0.99672293,\n",
       "       0.22812684, 0.32130342, 0.09207596, 0.99732533, 0.21437926,\n",
       "       0.94664248, 0.6586255 , 0.4610493 , 0.96744424, 0.7748019 ,\n",
       "       0.88509715, 0.38849221, 0.19258007, 0.95871174, 0.18272892,\n",
       "       0.22732412, 0.16224834, 0.5837636 , 0.4762352 , 0.10398468,\n",
       "       0.83947318, 0.89166032, 0.58508134, 0.81119749, 0.18642348])"
      ]
     },
     "execution_count": 37,
     "metadata": {},
     "output_type": "execute_result"
    }
   ],
   "source": [
    "arr = np.random.rand(100)\n",
    "arr"
   ]
  },
  {
   "cell_type": "code",
   "execution_count": 38,
   "metadata": {},
   "outputs": [
    {
     "data": {
      "text/plain": [
       "array([[0.48580005, 0.67472957, 0.92075062, 0.64498423, 0.33487187,\n",
       "        0.15437444, 0.56338156, 0.20663089, 0.17266157, 0.941636  ],\n",
       "       [0.31395996, 0.54698559, 0.97071227, 0.4652353 , 0.73039495,\n",
       "        0.65757293, 0.06565675, 0.06547045, 0.05046625, 0.17006609],\n",
       "       [0.74097069, 0.19660062, 0.9932546 , 0.92556708, 0.41653355,\n",
       "        0.57447264, 0.44293984, 0.48944576, 0.94775098, 0.66036272],\n",
       "       [0.61658173, 0.32771982, 0.39522731, 0.63698383, 0.10929576,\n",
       "        0.61206135, 0.42516551, 0.41675961, 0.53712592, 0.18649455],\n",
       "       [0.91394124, 0.49810321, 0.37033193, 0.02776645, 0.82603941,\n",
       "        0.94644916, 0.68946806, 0.16470394, 0.02337196, 0.77382914],\n",
       "       [0.70029054, 0.99744931, 0.37205014, 0.88876253, 0.48512958,\n",
       "        0.41763813, 0.56284729, 0.74045786, 0.583507  , 0.70551996],\n",
       "       [0.9779364 , 0.27397147, 0.61112194, 0.94483965, 0.76464776,\n",
       "        0.21839611, 0.1696806 , 0.92369161, 0.94467336, 0.14358626],\n",
       "       [0.91180924, 0.92999028, 0.48658005, 0.78506243, 0.99672293,\n",
       "        0.22812684, 0.32130342, 0.09207596, 0.99732533, 0.21437926],\n",
       "       [0.94664248, 0.6586255 , 0.4610493 , 0.96744424, 0.7748019 ,\n",
       "        0.88509715, 0.38849221, 0.19258007, 0.95871174, 0.18272892],\n",
       "       [0.22732412, 0.16224834, 0.5837636 , 0.4762352 , 0.10398468,\n",
       "        0.83947318, 0.89166032, 0.58508134, 0.81119749, 0.18642348]])"
      ]
     },
     "execution_count": 38,
     "metadata": {},
     "output_type": "execute_result"
    }
   ],
   "source": [
    "arr.reshape(10, 10)"
   ]
  }
 ],
 "metadata": {
  "kernelspec": {
   "display_name": "myenv",
   "language": "python",
   "name": "python3"
  },
  "language_info": {
   "codemirror_mode": {
    "name": "ipython",
    "version": 3
   },
   "file_extension": ".py",
   "mimetype": "text/x-python",
   "name": "python",
   "nbconvert_exporter": "python",
   "pygments_lexer": "ipython3",
   "version": "3.11.6"
  }
 },
 "nbformat": 4,
 "nbformat_minor": 2
}
